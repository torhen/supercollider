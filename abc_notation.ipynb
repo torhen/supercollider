{
 "cells": [
  {
   "cell_type": "code",
   "execution_count": 1,
   "metadata": {},
   "outputs": [],
   "source": [
    "from pyo import *\n",
    "import re"
   ]
  },
  {
   "cell_type": "code",
   "execution_count": 2,
   "metadata": {},
   "outputs": [],
   "source": [
    "class MyInstrument(EventInstrument):\n",
    "    def __init__(self, **args):\n",
    "        EventInstrument.__init__(self, **args)\n",
    "        \n",
    "        self.env = Adsr(0.01, 0.05, 0.5, 1, dur=self.dur+1, mul=self.amp).play()\n",
    "\n",
    "        # self.freq is derived from the 'degree' argument.\n",
    "        self.phase = Phasor([self.freq, self.freq * 1.003])\n",
    "\n",
    "        # self.dur is derived from the 'beat' argument.\n",
    "        self.duty = Expseg([(0, 0.05), (self.dur, 0.5)], exp=4).play()\n",
    "\n",
    "        self.osc = Compare(self.phase, self.duty, mode=\"<\", mul=1, add=-0.5)\n",
    "\n",
    "        # EventInstrument created the amplitude envelope as self.env.\n",
    "        self.filt = ButLP(self.osc, freq=5000, mul=self.env).out()"
   ]
  },
  {
   "cell_type": "code",
   "execution_count": 3,
   "metadata": {},
   "outputs": [
    {
     "data": {
      "text/plain": [
       "['C', 'E', 'G']"
      ]
     },
     "execution_count": 3,
     "metadata": {},
     "output_type": "execute_result"
    }
   ],
   "source": [
    "def sep_abc(s):\n",
    "    s = s.replace(' ', '')\n",
    "    s = s.replace('|', '')\n",
    "    return re.findall(r\"[_^]?[A-G,a-g][,']*\\d?/?\\d*\", s)\n",
    "ar = sep_abc(\"CEG\")\n",
    "ar"
   ]
  },
  {
   "cell_type": "code",
   "execution_count": 4,
   "metadata": {},
   "outputs": [],
   "source": [
    "def note2midi(s):\n",
    "    p = r\"([_^]?)([A-G,a-g])([,']*)(\\d?/?\\d*)\"\n",
    "    r = re.match(p, s)\n",
    "    sign = r.group(1)\n",
    "    note = r.group(2)\n",
    "    register = r.group(3)\n",
    "    dur = r.group(4)\n",
    "\n",
    "    # sign\n",
    "    sign_shift = 0\n",
    "    if sign =='^': sign_shift = 1\n",
    "    if sign == '_': sign_shift = -1\n",
    "\n",
    "    # note\n",
    "    if note.isupper():\n",
    "        oct = 0\n",
    "    else:\n",
    "        oct = 12\n",
    "\n",
    "    dic = {'c': 48, 'd': 50, 'e': 52, 'f': 53, 'g': 55, 'a': 57, 'b': 59}\n",
    "\n",
    "    # octave\n",
    "    if register == \"'\" : oct = oct + 12\n",
    "    if register == \"''\": oct = oct + 24\n",
    "    if register == \",\" : oct = oct - 12\n",
    "    if register == \",,\": oct = oct - 24\n",
    "        \n",
    "    # dur\n",
    "    if dur=='': dur = \"1\"\n",
    "    if dur.startswith('/'):\n",
    "        dur = \"1\" + dur\n",
    "    dur = eval(dur)\n",
    "    \n",
    "    return dic[note.lower()] + sign_shift + oct, dur"
   ]
  },
  {
   "cell_type": "code",
   "execution_count": 5,
   "metadata": {},
   "outputs": [],
   "source": [
    "def abc(s=\"CEGc\", instr=None, amp=0.1, occ=1, beat=1):\n",
    "    if instr is None:\n",
    "        instr = DefaultInstrument\n",
    "    ar = sep_abc(s)\n",
    "    midinote = [note2midi(s)[0] for s in ar]\n",
    "    dur = [note2midi(s)[1] for s in ar]\n",
    "    e = Events(amp = amp, beat=beat, instr=instr, midinote = EventSeq(midinote, occ), dur = EventSeq(dur, occ))\n",
    "    return e"
   ]
  },
  {
   "cell_type": "code",
   "execution_count": 6,
   "metadata": {},
   "outputs": [],
   "source": [
    "s = Server().boot().start()"
   ]
  },
  {
   "cell_type": "code",
   "execution_count": 8,
   "metadata": {},
   "outputs": [],
   "source": [
    "a = abc().play();"
   ]
  },
  {
   "cell_type": "code",
   "execution_count": 9,
   "metadata": {},
   "outputs": [],
   "source": [
    "p1 = abc(amp=0.01, beat=0.5, instr=MyInstrument, s=\"e'/4d'/4^f/2^g/2       | ^c'/4b/4d/2e/2 b/4   | a/4 ^c/2 e/2 a3/2   \").play()\n",
    "p2 = abc(amp=0.01, beat=0.5, instr=MyInstrument, s=\"B,/4B/4B,/4B,/4B/4B,/4 | E,/4E/4E,/4E,/4E/4E, | A,/4A/4A,/4\").play()"
   ]
  },
  {
   "cell_type": "code",
   "execution_count": 10,
   "metadata": {},
   "outputs": [],
   "source": [
    "s.stop()"
   ]
  },
  {
   "cell_type": "code",
   "execution_count": null,
   "metadata": {},
   "outputs": [],
   "source": []
  }
 ],
 "metadata": {
  "kernelspec": {
   "display_name": "Python 3",
   "language": "python",
   "name": "python3"
  },
  "language_info": {
   "codemirror_mode": {
    "name": "ipython",
    "version": 3
   },
   "file_extension": ".py",
   "mimetype": "text/x-python",
   "name": "python",
   "nbconvert_exporter": "python",
   "pygments_lexer": "ipython3",
   "version": "3.8.5"
  }
 },
 "nbformat": 4,
 "nbformat_minor": 4
}
